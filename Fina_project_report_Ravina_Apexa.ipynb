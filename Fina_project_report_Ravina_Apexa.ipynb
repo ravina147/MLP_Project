{
 "cells": [
  {
   "cell_type": "markdown",
   "metadata": {},
   "source": [
    "### An In-Depth Analysis of Hate Speech Detection and Tracking in the Age of Social Media: A Systematic Review of NLP and Deep Learning Approaches\n",
    "#### Ravina Gandhi\n",
    "#### Apeksha Patel\n"
   ]
  },
  {
   "cell_type": "markdown",
   "metadata": {},
   "source": [
    "### INTRODUCTION: \n",
    "*********************************************************************************************************************\n",
    "#### AIM : \n",
    "This study conducts a systematic review of hate speech detection in the context of rapidly multiplying social media platforms. Focusing on natural language processing and deep learning, it assesses current techniques' shortcomings and explores future research directions, aligning with PRISMA guidelines and analyzing the last decade's literature.\n",
    "*********************************************************************************************************************\n",
    "#### Github Repo: \n",
    "https://github.com/saroarjahan/Google_sholars_ACM_digital_library_crawler\n",
    "*********************************************************************************************************************\n",
    "#### DESCRIPTION OF PAPER:\n",
    "The rise of social media and chat forums has intensified the global dissemination of aggressive content, facilitated by anonymity and easy access. Microblogging platforms have enabled rapid expression of opinions, leading to widespread hate speech due to personal motives or business incentives. Despite varying legislation, hate speech typically involves discriminatory language. With evolving cyberspace, NLP advancements have spurred research in automated hate speech detection to address the challenges faced by policymakers and researchers.\n",
    "*********************************************************************************************************************\n",
    "#### PROBLEM STATEMENT :\n",
    "The amplification of hate speech, particularly on social media and chat platforms, has become more pronounced. Microblogging apps have enabled global instant expression, driven by easy access and anonymity, creating an environment for aggressive content dissemination. Varying hate speech legislation and the challenge of regulating evolving cyberspace have led to increased propagation online, challenging policymakers. Despite differing laws, hate speech generally targets individuals or groups based on characteristics. The delay in manual content checks and the need for expression fuel this issue, prompting extensive research in NLP for automated hate speech detectio\n",
    "*********************************************************************************************************************\n",
    "#### CONTEXT OF THE PROBLEM:\n",
    "This surge in online hate speech presents an ongoing challenge that not only confronts policymakers but also tests the resilience of the research community. With the advancements in natural language processing (NLP) technology, a substantial amount of research has been dedicated to addressing this challenge through the development of automatic textual hate speech detection methods. This contextual backdrop sets the stage for a comprehensive exploration of hate speech detection and tracking in the realm of social media and online communication platforms.\n",
    "*********************************************************************************************************************\n",
    "#### SOLUTION:\n",
    "Data Collection and Preprocessing:\n",
    "Gather a diverse and comprehensive dataset containing examples of hate speech, offensive language, and neutral content. Preprocess the data by cleaning and tokenizing the text to prepare it for analysis.\n",
    "\n",
    "Text Classification Models: \n",
    "Develop state-of-the-art text classification models using deep learning architectures like Convolutional Neural Networks (CNNs), Recurrent Neural Networks (RNNs), or Transformer-based models (such as BERT or GPT). These models can be trained to differentiate between hate speech and non-hateful content.\n",
    "\n",
    "Multi-Modal Approaches:\n",
    "Combine textual analysis with other modalities like images and videos to detect hate speech that may not be solely reliant on text.\n",
    "\n",
    "Semi-Supervised Learning: \n",
    "Incorporate semi-supervised learning techniques to make the most of limited labeled data, leveraging unlabeled data to improve model performance.\n",
    "\n",
    "Fine-Tuning: \n",
    "Fine-tune pre-trained language models on hate speech detection tasks, enabling them to capture intricate linguistic patterns specific to hate speech"
   ]
  },
  {
   "cell_type": "markdown",
   "metadata": {},
   "source": [
    "# Background\n",
    "*********************************************************************************************************************\n",
    "### Dataset/Input:\n",
    "The surge of hate speech on social media and chat platforms underscores the challenge of maintaining respectful online discourse due to anonymity and accessibility. Microblogging apps have exacerbated this issue, enabling rapid global expression of opinions while harboring harmful content. Varied hate speech legislation and delayed manual moderation have fueled online hate propagation, prompting research in hate speech detection. \n",
    "### Reference: \n",
    "https://github.com/saroarjahan/Google_sholars_ACM_digital_library_crawler\n",
    "\n",
    "*********************************************************************************************************************\n",
    "\n",
    "\n",
    "\n",
    "\n"
   ]
  },
  {
   "cell_type": "markdown",
   "metadata": {},
   "source": [
    "# Implement paper code :\n",
    "*********************************************************************************************************************"
   ]
  },
  {
   "cell_type": "code",
   "execution_count": 10,
   "metadata": {},
   "outputs": [],
   "source": [
    "import pandas as pd\n",
    "\n",
    "import nltk\n",
    "from nltk.corpus import stopwords\n",
    "from nltk.tokenize import word_tokenize\n",
    "\n",
    "\n",
    "import tensorflow as tf\n",
    "from tensorflow.keras.preprocessing.text import Tokenizer\n",
    "from tensorflow.keras.preprocessing.sequence import pad_sequences\n",
    "from sklearn.model_selection import train_test_split\n",
    "from sklearn.preprocessing import LabelEncoder\n",
    "\n"
   ]
  },
  {
   "cell_type": "markdown",
   "metadata": {},
   "source": [
    "### Dataset Analysis and Exploration:"
   ]
  },
  {
   "cell_type": "code",
   "execution_count": 11,
   "metadata": {},
   "outputs": [
    {
     "data": {
      "text/html": [
       "<div>\n",
       "<style scoped>\n",
       "    .dataframe tbody tr th:only-of-type {\n",
       "        vertical-align: middle;\n",
       "    }\n",
       "\n",
       "    .dataframe tbody tr th {\n",
       "        vertical-align: top;\n",
       "    }\n",
       "\n",
       "    .dataframe thead th {\n",
       "        text-align: right;\n",
       "    }\n",
       "</style>\n",
       "<table border=\"1\" class=\"dataframe\">\n",
       "  <thead>\n",
       "    <tr style=\"text-align: right;\">\n",
       "      <th></th>\n",
       "      <th>title</th>\n",
       "      <th>url</th>\n",
       "      <th>authors</th>\n",
       "      <th>abstract</th>\n",
       "      <th>citation</th>\n",
       "      <th>years</th>\n",
       "    </tr>\n",
       "  </thead>\n",
       "  <tbody>\n",
       "    <tr>\n",
       "      <th>0</th>\n",
       "      <td>Interpretable multi-modal hate speech detection</td>\n",
       "      <td>https://arxiv.org/abs/2103.01616</td>\n",
       "      <td>P Vijayaraghavan, H Larochelle, D Roy - arXiv ...</td>\n",
       "      <td>… References Aro, J. The cyberspace war: propa...</td>\n",
       "      <td>2 Relaterade artiklar  Se som HTML-version</td>\n",
       "      <td>2021</td>\n",
       "    </tr>\n",
       "    <tr>\n",
       "      <th>1</th>\n",
       "      <td>Comparing pre-trained language models for Span...</td>\n",
       "      <td>https://www.sciencedirect.com/science/article/...</td>\n",
       "      <td>FM Plaza-del-Arco, MD Molina-González… - Exper...</td>\n",
       "      <td>… However, freedom of expression is not always...</td>\n",
       "      <td>1 Relaterade artiklar</td>\n",
       "      <td>2021</td>\n",
       "    </tr>\n",
       "    <tr>\n",
       "      <th>2</th>\n",
       "      <td>[HTML][HTML] To BAN or not to BAN: Bayesian at...</td>\n",
       "      <td>https://link.springer.com/article/10.1007/s125...</td>\n",
       "      <td>K Miok, B Škrlj, D Zaharie, M Robnik-Šikonja -...</td>\n",
       "      <td>… harmful content and possibly ban malicious u...</td>\n",
       "      <td>4 Relaterade artiklar Alla 3 versionerna</td>\n",
       "      <td>2021</td>\n",
       "    </tr>\n",
       "    <tr>\n",
       "      <th>3</th>\n",
       "      <td>A study of text representations in Hate Speech...</td>\n",
       "      <td>https://arxiv.org/abs/2102.04521</td>\n",
       "      <td>C Themeli, G Giannakopoulos, N Pittaras - arXi...</td>\n",
       "      <td>… Sentiment analysis could be a meaningful fea...</td>\n",
       "      <td>1 Relaterade artiklar  Se som HTML-version</td>\n",
       "      <td>2021</td>\n",
       "    </tr>\n",
       "    <tr>\n",
       "      <th>4</th>\n",
       "      <td>Towards generalisable hate speech detection: a...</td>\n",
       "      <td>https://arxiv.org/abs/2102.08886</td>\n",
       "      <td>W Yin, A Zubiaga - arXiv preprint arXiv:2102.0...</td>\n",
       "      <td>… to silence, criticises, negatively stereotyp...</td>\n",
       "      <td>Alla 2 versionerna  Se som HTML-version</td>\n",
       "      <td>2021</td>\n",
       "    </tr>\n",
       "    <tr>\n",
       "      <th>...</th>\n",
       "      <td>...</td>\n",
       "      <td>...</td>\n",
       "      <td>...</td>\n",
       "      <td>...</td>\n",
       "      <td>...</td>\n",
       "      <td>...</td>\n",
       "    </tr>\n",
       "    <tr>\n",
       "      <th>670</th>\n",
       "      <td>Voice activity detection based on an unsupervi...</td>\n",
       "      <td>https://ieeexplore.ieee.org/abstract/document/...</td>\n",
       "      <td>D Ying, Y Yan, J Dang, FK Soong - … , Speech, ...</td>\n",
       "      <td>… I. INTRODUCTION The function of the voice ac...</td>\n",
       "      <td>114 Relaterade artiklar Alla 7 versionerna</td>\n",
       "      <td>2011</td>\n",
       "    </tr>\n",
       "    <tr>\n",
       "      <th>671</th>\n",
       "      <td>[HTML][HTML] Early detection of hearing impair...</td>\n",
       "      <td>https://www.ncbi.nlm.nih.gov/pmc/articles/PMC3...</td>\n",
       "      <td>M Ptok - Deutsches Ärzteblatt International, 2...</td>\n",
       "      <td>… [PMC free article] [PubMed … of Audiology, A...</td>\n",
       "      <td>81 Relaterade artiklar Alla 10 versionerna</td>\n",
       "      <td>2011</td>\n",
       "    </tr>\n",
       "    <tr>\n",
       "      <th>672</th>\n",
       "      <td>Citation pattern matching algorithms for citat...</td>\n",
       "      <td>https://dl.acm.org/doi/abs/10.1145/2034691.203...</td>\n",
       "      <td>B Gipp, N Meuschke - Proceedings of the 11th A...</td>\n",
       "      <td>… or syllables per word; • syntactic features,...</td>\n",
       "      <td>97 Relaterade artiklar Alla 8 versionerna  ...</td>\n",
       "      <td>2011</td>\n",
       "    </tr>\n",
       "    <tr>\n",
       "      <th>673</th>\n",
       "      <td>Unsupervised acoustic sub-word unit detection ...</td>\n",
       "      <td>https://ieeexplore.ieee.org/abstract/document/...</td>\n",
       "      <td>M Huijbregts, M McLaren… - … on Acoustics, spe...</td>\n",
       "      <td>… rameters in Mij (the number of gaussians) eq...</td>\n",
       "      <td>64 Relaterade artiklar Alla 10 versionerna</td>\n",
       "      <td>2011</td>\n",
       "    </tr>\n",
       "    <tr>\n",
       "      <th>674</th>\n",
       "      <td>Action unit detection using sparse appearance ...</td>\n",
       "      <td>https://ieeexplore.ieee.org/abstract/document/...</td>\n",
       "      <td>B Jiang, MF Valstar, M Pantic - 2011 IEEE Inte...</td>\n",
       "      <td>… [5] proposed a method that detects AUs and t...</td>\n",
       "      <td>277 Relaterade artiklar Alla 14 versionerna</td>\n",
       "      <td>2011</td>\n",
       "    </tr>\n",
       "  </tbody>\n",
       "</table>\n",
       "<p>675 rows × 6 columns</p>\n",
       "</div>"
      ],
      "text/plain": [
       "                                                 title  \\\n",
       "0      Interpretable multi-modal hate speech detection   \n",
       "1    Comparing pre-trained language models for Span...   \n",
       "2    [HTML][HTML] To BAN or not to BAN: Bayesian at...   \n",
       "3    A study of text representations in Hate Speech...   \n",
       "4    Towards generalisable hate speech detection: a...   \n",
       "..                                                 ...   \n",
       "670  Voice activity detection based on an unsupervi...   \n",
       "671  [HTML][HTML] Early detection of hearing impair...   \n",
       "672  Citation pattern matching algorithms for citat...   \n",
       "673  Unsupervised acoustic sub-word unit detection ...   \n",
       "674  Action unit detection using sparse appearance ...   \n",
       "\n",
       "                                                   url  \\\n",
       "0                     https://arxiv.org/abs/2103.01616   \n",
       "1    https://www.sciencedirect.com/science/article/...   \n",
       "2    https://link.springer.com/article/10.1007/s125...   \n",
       "3                     https://arxiv.org/abs/2102.04521   \n",
       "4                     https://arxiv.org/abs/2102.08886   \n",
       "..                                                 ...   \n",
       "670  https://ieeexplore.ieee.org/abstract/document/...   \n",
       "671  https://www.ncbi.nlm.nih.gov/pmc/articles/PMC3...   \n",
       "672  https://dl.acm.org/doi/abs/10.1145/2034691.203...   \n",
       "673  https://ieeexplore.ieee.org/abstract/document/...   \n",
       "674  https://ieeexplore.ieee.org/abstract/document/...   \n",
       "\n",
       "                                               authors  \\\n",
       "0    P Vijayaraghavan, H Larochelle, D Roy - arXiv ...   \n",
       "1    FM Plaza-del-Arco, MD Molina-González… - Exper...   \n",
       "2    K Miok, B Škrlj, D Zaharie, M Robnik-Šikonja -...   \n",
       "3    C Themeli, G Giannakopoulos, N Pittaras - arXi...   \n",
       "4    W Yin, A Zubiaga - arXiv preprint arXiv:2102.0...   \n",
       "..                                                 ...   \n",
       "670  D Ying, Y Yan, J Dang, FK Soong - … , Speech, ...   \n",
       "671  M Ptok - Deutsches Ärzteblatt International, 2...   \n",
       "672  B Gipp, N Meuschke - Proceedings of the 11th A...   \n",
       "673  M Huijbregts, M McLaren… - … on Acoustics, spe...   \n",
       "674  B Jiang, MF Valstar, M Pantic - 2011 IEEE Inte...   \n",
       "\n",
       "                                              abstract  \\\n",
       "0    … References Aro, J. The cyberspace war: propa...   \n",
       "1    … However, freedom of expression is not always...   \n",
       "2    … harmful content and possibly ban malicious u...   \n",
       "3    … Sentiment analysis could be a meaningful fea...   \n",
       "4    … to silence, criticises, negatively stereotyp...   \n",
       "..                                                 ...   \n",
       "670  … I. INTRODUCTION The function of the voice ac...   \n",
       "671  … [PMC free article] [PubMed … of Audiology, A...   \n",
       "672  … or syllables per word; • syntactic features,...   \n",
       "673  … rameters in Mij (the number of gaussians) eq...   \n",
       "674  … [5] proposed a method that detects AUs and t...   \n",
       "\n",
       "                                              citation  years  \n",
       "0          2 Relaterade artiklar  Se som HTML-version    2021  \n",
       "1                              1 Relaterade artiklar     2021  \n",
       "2           4 Relaterade artiklar Alla 3 versionerna     2021  \n",
       "3          1 Relaterade artiklar  Se som HTML-version    2021  \n",
       "4             Alla 2 versionerna  Se som HTML-version    2021  \n",
       "..                                                 ...    ...  \n",
       "670       114 Relaterade artiklar Alla 7 versionerna     2011  \n",
       "671       81 Relaterade artiklar Alla 10 versionerna     2011  \n",
       "672     97 Relaterade artiklar Alla 8 versionerna  ...   2011  \n",
       "673       64 Relaterade artiklar Alla 10 versionerna     2011  \n",
       "674      277 Relaterade artiklar Alla 14 versionerna     2011  \n",
       "\n",
       "[675 rows x 6 columns]"
      ]
     },
     "execution_count": 11,
     "metadata": {},
     "output_type": "execute_result"
    }
   ],
   "source": [
    "\n",
    "# Load the UCI Adult dataset\n",
    "data = pd.read_csv('../Downloads/google_data.csv')\n",
    "\n",
    "data\n"
   ]
  },
  {
   "cell_type": "markdown",
   "metadata": {},
   "source": [
    "### Creating Prediction Tasks:"
   ]
  },
  {
   "cell_type": "code",
   "execution_count": 12,
   "metadata": {},
   "outputs": [
    {
     "name": "stderr",
     "output_type": "stream",
     "text": [
      "[nltk_data] Downloading package punkt to\n",
      "[nltk_data]     /Users/dhavalpatel/nltk_data...\n",
      "[nltk_data]   Package punkt is already up-to-date!\n",
      "[nltk_data] Downloading package stopwords to\n",
      "[nltk_data]     /Users/dhavalpatel/nltk_data...\n",
      "[nltk_data]   Package stopwords is already up-to-date!\n"
     ]
    },
    {
     "data": {
      "text/plain": [
       "True"
      ]
     },
     "execution_count": 12,
     "metadata": {},
     "output_type": "execute_result"
    }
   ],
   "source": [
    "# Tokenization and Stopword Removal\n",
    "nltk.download('punkt')\n",
    "nltk.download('stopwords')\n",
    "\n"
   ]
  },
  {
   "cell_type": "markdown",
   "metadata": {},
   "source": [
    "### Text Classification Models"
   ]
  },
  {
   "cell_type": "code",
   "execution_count": 13,
   "metadata": {},
   "outputs": [
    {
     "name": "stderr",
     "output_type": "stream",
     "text": [
      "/Users/dhavalpatel/anaconda3/lib/python3.10/site-packages/sklearn/cluster/_kmeans.py:870: FutureWarning: The default value of `n_init` will change from 10 to 'auto' in 1.4. Set the value of `n_init` explicitly to suppress the warning\n",
      "  warnings.warn(\n"
     ]
    },
    {
     "data": {
      "image/png": "[encoded data removed]",
      "text/plain": [
       "<Figure size 640x480 with 2 Axes>"
      ]
     },
     "metadata": {},
     "output_type": "display_data"
    },
    {
     "name": "stdout",
     "output_type": "stream",
     "text": [
      "Cluster 0 samples:\n",
      "                                                 title  \\\n",
      "117  Multitask learning for arabic offensive langua...   \n",
      "165  Gaming algorithmic hate-speech detection: Stak...   \n",
      "167  Reducing Unintended Identity Bias in Russian H...   \n",
      "24   Leveraging cross-platform data to improve auto...   \n",
      "109  NSLPCD: Topic based tweets clustering using No...   \n",
      "\n",
      "                                              abstract  years  \n",
      "117  … created a dataset of religious hate-speech d...   2020  \n",
      "165  … With my free profile I can … Download Citati...   2020  \n",
      "167  … The authors would also like to thank the VK ...   2020  \n",
      "24   … and use a definition of hate speech as “mess...   2021  \n",
      "109  … short sentence structure with informal use o...   2021  \n",
      "\n",
      "\n",
      "Cluster 1 samples:\n",
      "                                                 title  \\\n",
      "613  [HTML][HTML] Methylated-CpG island recovery as...   \n",
      "602  [BOK][B] Detecting the Nation: Fictions of det...   \n",
      "609  Challenges in real-life emotion annotation and...   \n",
      "568    Plan recognition in intrusion detection systems   \n",
      "614  [HTML][HTML] Detection of acute infections dur...   \n",
      "\n",
      "                                              abstract  years  \n",
      "613  … is eluted from the matrix and gene-specific ...   2005  \n",
      "602  … In all manner of discourse, from courtroom s...   2004  \n",
      "609  … DHM call centers (real life), 7200 turns, Ne...   2005  \n",
      "568  … plan recognition system come from two differ...   2001  \n",
      "614  Background North Carolina has added nucleic ac...   2005  \n",
      "\n",
      "\n",
      "Cluster 2 samples:\n",
      "                                                 title  \\\n",
      "514  Automatic detection and verification of rumors...   \n",
      "522  Functional MRI-based lie detection: scientific...   \n",
      "538  Building a large-scale corpus for evaluating e...   \n",
      "489      Hate speech detection with comment embeddings   \n",
      "463  Deep convolutional neural networks and data au...   \n",
      "\n",
      "                                              abstract  years  \n",
      "514  … This Twitter speech-act classifier is the ba...   2015  \n",
      "522  … then raise a series of issues concerning the...   2014  \n",
      "538  … For example, a speech at a rally might be an...   2013  \n",
      "489  … However, due to inter- net's non-restrictive...   2015  \n",
      "463  … [37] P. Viola, JC Platt, and C. Zhang, “Mult...   2016  \n",
      "\n",
      "\n",
      "Cluster 3 samples:\n",
      "                                                 title  \\\n",
      "639  Improving the utility of speech recognition th...   \n",
      "645  Implementation of an extended recognition netw...   \n",
      "616  Auditory speech sounds evaluation (A § E®): a ...   \n",
      "615  Multiband modulation energy tracking for noisy...   \n",
      "668  Automatic detection of political opinions in t...   \n",
      "\n",
      "                                              abstract  years  \n",
      "639  … Overview Underlying our approach is the key ...   2008  \n",
      "645  … 47 Speech and Language Technology in Educati...   2009  \n",
      "616  … For this purpose, each speech sound was pres...   2006  \n",
      "615  … Finally, in Sec- tion V, voice activity dete...   2006  \n",
      "668  … may be equally drawn towards more than one p...   2011  \n",
      "\n",
      "\n",
      "Cluster 4 samples:\n",
      "                                                 title  \\\n",
      "397  Leveraging financial social media data for cor...   \n",
      "432  [PDF][PDF] Proposed approach for sarcasm detec...   \n",
      "444  Deception detection and rumor debunking for so...   \n",
      "292  Automatic detection of hate speech on facebook...   \n",
      "324  A dataset and preliminaries study for abusive ...   \n",
      "\n",
      "                                              abstract  years  \n",
      "397  … [48] found that linguistic styles (such as h...   2018  \n",
      "432  … A package named TextBlob that is installed i...   2017  \n",
      "444  … language changes under the influence of diff...   2017  \n",
      "292  … F. Dell'Orletta, M. Petrocchi, and M. Tescon...   2019  \n",
      "324  … C., Tetreault, J., Thomas, A., Mehdad, Y., C...   2018  \n",
      "\n",
      "\n"
     ]
    }
   ],
   "source": [
    "\n",
    "from sklearn.feature_extraction.text import TfidfVectorizer\n",
    "from sklearn.decomposition import TruncatedSVD\n",
    "from sklearn.cluster import KMeans\n",
    "import matplotlib.pyplot as plt\n",
    "import numpy as np\n",
    "\n",
    "\n",
    "# Select relevant columns\n",
    "selected_columns = ['title', 'url', 'authors', 'abstract', 'citation', 'years']\n",
    "data = data[selected_columns]\n",
    "\n",
    "# Combine selected columns into a single input text\n",
    "data['input_text'] = data['title'] + ' ' + data['abstract'] + ' ' + data['citation']\n",
    "\n",
    "# Use TF-IDF vectorizer to convert text to numerical features\n",
    "vectorizer = TfidfVectorizer(max_features=10000, stop_words='english')  # You can add more options like stopwords\n",
    "X_text = vectorizer.fit_transform(data['input_text'])\n",
    "\n",
    "# Add temporal features (years) as additional modalities\n",
    "X_temporal = np.array(data['years']).reshape(-1, 1)\n",
    "\n",
    "# Combine text and temporal features\n",
    "X_combined = np.hstack((X_text.toarray(), X_temporal))\n",
    "\n",
    "# Apply dimensionality reduction\n",
    "svd = TruncatedSVD(n_components=50)\n",
    "X_svd = svd.fit_transform(X_combined)\n",
    "\n",
    "# Apply K-Means clustering\n",
    "num_clusters = 5  # You can adjust the number of clusters\n",
    "kmeans = KMeans(n_clusters=num_clusters, random_state=42)\n",
    "data['cluster_label'] = kmeans.fit_predict(X_svd)\n",
    "\n",
    "# Visualize the clustering\n",
    "plt.scatter(X_svd[:, 0], X_svd[:, 1], c=data['cluster_label'], cmap='viridis')\n",
    "plt.title(\"K-Means Clustering with Multi-modal Features\")\n",
    "plt.xlabel(\"SVD Component 1\")\n",
    "plt.ylabel(\"SVD Component 2\")\n",
    "plt.colorbar()\n",
    "plt.show()\n",
    "\n",
    "# Print some samples from each cluster\n",
    "for cluster_id in range(num_clusters):\n",
    "    cluster_samples = data[data['cluster_label'] == cluster_id].sample(n=5)\n",
    "    print(f\"Cluster {cluster_id} samples:\")\n",
    "    print(cluster_samples[['title', 'abstract', 'years']])\n",
    "    print(\"\\n\")\n",
    "\n",
    "\n"
   ]
  },
  {
   "cell_type": "markdown",
   "metadata": {},
   "source": [
    "### Multi-Modal Approches"
   ]
  },
  {
   "cell_type": "code",
   "execution_count": 14,
   "metadata": {},
   "outputs": [
    {
     "name": "stdout",
     "output_type": "stream",
     "text": [
      "Requirement already satisfied: opencv-python in /Users/dhavalpatel/anaconda3/lib/python3.10/site-packages (4.8.0.76)\n",
      "Requirement already satisfied: numpy>=1.21.4 in /Users/dhavalpatel/anaconda3/lib/python3.10/site-packages (from opencv-python) (1.23.5)\n",
      "Note: you may need to restart the kernel to use updated packages.\n"
     ]
    }
   ],
   "source": [
    "pip install opencv-python"
   ]
  },
  {
   "cell_type": "code",
   "execution_count": 15,
   "metadata": {},
   "outputs": [
    {
     "name": "stdout",
     "output_type": "stream",
     "text": [
      "Requirement already satisfied: textblob in /Users/dhavalpatel/anaconda3/lib/python3.10/site-packages (0.17.1)\n",
      "Requirement already satisfied: nltk>=3.1 in /Users/dhavalpatel/anaconda3/lib/python3.10/site-packages (from textblob) (3.7)\n",
      "Requirement already satisfied: joblib in /Users/dhavalpatel/anaconda3/lib/python3.10/site-packages (from nltk>=3.1->textblob) (1.1.1)\n",
      "Requirement already satisfied: regex>=2021.8.3 in /Users/dhavalpatel/anaconda3/lib/python3.10/site-packages (from nltk>=3.1->textblob) (2022.7.9)\n",
      "Requirement already satisfied: tqdm in /Users/dhavalpatel/anaconda3/lib/python3.10/site-packages (from nltk>=3.1->textblob) (4.64.1)\n",
      "Requirement already satisfied: click in /Users/dhavalpatel/anaconda3/lib/python3.10/site-packages (from nltk>=3.1->textblob) (8.0.4)\n",
      "Note: you may need to restart the kernel to use updated packages.\n"
     ]
    }
   ],
   "source": [
    "pip install textblob"
   ]
  },
  {
   "cell_type": "code",
   "execution_count": 16,
   "metadata": {},
   "outputs": [],
   "source": [
    "import pandas as pd\n",
    "from textblob import TextBlob\n"
   ]
  },
  {
   "cell_type": "code",
   "execution_count": 17,
   "metadata": {},
   "outputs": [],
   "source": [
    "# List of offensive words (we can add more than these few words)\n",
    "offensive_words = [\n",
    "    \"criticises\", \"harmful content\", \"negatively stereotypes\", \"hate\",\"suck\" \n",
    "]"
   ]
  },
  {
   "cell_type": "code",
   "execution_count": 18,
   "metadata": {},
   "outputs": [],
   "source": [
    "# Function to detect offensive language\n",
    "def detect_offensive_language(text):\n",
    "    words = text.lower().split()  # Convert text to lowercase and split into words\n",
    "    for word in words:\n",
    "        if word in offensive_words:\n",
    "            return True  # Detected offensive language\n",
    "    return False  # No offensive language detected"
   ]
  },
  {
   "cell_type": "code",
   "execution_count": 19,
   "metadata": {},
   "outputs": [],
   "source": [
    "# Textual Analysis\n",
    "def analyze_text(text):\n",
    "    blob = TextBlob(text)\n",
    "    sentiment_score = blob.sentiment.polarity\n",
    "    offensive_detected = detect_offensive_language(text)\n",
    "    return sentiment_score, offensive_detected"
   ]
  },
  {
   "cell_type": "code",
   "execution_count": 20,
   "metadata": {},
   "outputs": [],
   "source": [
    "threshold = 1.5  # Placeholder threshold\n",
    "def multi_modal_detection(text_sentiment, offensive_detected):\n",
    "    # Combine scores from different modalities and offensive flag using a fusion approach\n",
    "    if text_sentiment > threshold and not offensive_detected:\n",
    "        return \"Hate Speech\"\n",
    "    else:\n",
    "        return \"Not Hate Speech\""
   ]
  },
  {
   "cell_type": "code",
   "execution_count": 21,
   "metadata": {},
   "outputs": [],
   "source": [
    "# Apply functions to the dataset\n",
    "data[['text_sentiment', 'offensive']] = data['abstract'].apply(analyze_text).apply(pd.Series)\n",
    "data['classification'] = data.apply(\n",
    "    lambda row: multi_modal_detection(row['text_sentiment'],row['offensive']),\n",
    "    axis=1\n",
    ")\n",
    "\n"
   ]
  },
  {
   "cell_type": "code",
   "execution_count": 22,
   "metadata": {},
   "outputs": [
    {
     "name": "stdout",
     "output_type": "stream",
     "text": [
      "                                                 title   classification\n",
      "0      Interpretable multi-modal hate speech detection  Not Hate Speech\n",
      "1    Comparing pre-trained language models for Span...  Not Hate Speech\n",
      "2    [HTML][HTML] To BAN or not to BAN: Bayesian at...  Not Hate Speech\n",
      "3    A study of text representations in Hate Speech...  Not Hate Speech\n",
      "4    Towards generalisable hate speech detection: a...  Not Hate Speech\n",
      "..                                                 ...              ...\n",
      "670  Voice activity detection based on an unsupervi...  Not Hate Speech\n",
      "671  [HTML][HTML] Early detection of hearing impair...  Not Hate Speech\n",
      "672  Citation pattern matching algorithms for citat...  Not Hate Speech\n",
      "673  Unsupervised acoustic sub-word unit detection ...  Not Hate Speech\n",
      "674  Action unit detection using sparse appearance ...  Not Hate Speech\n",
      "\n",
      "[675 rows x 2 columns]\n"
     ]
    }
   ],
   "source": [
    "# Print or save the results\n",
    "print(data[['title', 'classification']])"
   ]
  },
  {
   "cell_type": "markdown",
   "metadata": {},
   "source": [
    "In this code we have define a list of offensive words that we want to detect in the text.\n",
    "\n",
    "A function \"detect_offensive_language\" that checks if any word in the text is present in the list of offensive words.\n",
    "\n",
    "A function \"analyze_text\" that uses TextBlob to perform sentiment analysis on the text and also calls the \"detect_offensive_language\" function.\n",
    "\n",
    "multi_modal_detection that combines the sentiment score and offensive flag to classify content as \"Hate Speech\" or \"Not Hate Speech\" based on the threshold and the presence of offensive language.\n",
    "\n",
    "so here, Entries that have been classified as \"Not Hate Speech\" are marked as such, and entries classified as \"Hate Speech\" are marked accordingly.\n"
   ]
  },
  {
   "cell_type": "markdown",
   "metadata": {},
   "source": [
    "*********************************************************************************************************************\n",
    "### Contribution  Code :\n",
    "* This code showcases a contribution to the field of data analysis and clustering by demonstrating how to perform multi-modal clustering using text and temporal features. By combining different types of information, the code aims to identify patterns and group similar data points together. The code is designed as a starting point for researchers or practitioners interested in exploring data-driven insights without requiring explicit labels. It illustrates the potential of multi-modal approaches to uncover hidden relationships within the data and provides a foundation for further exploration and refinement based on specific objectives and datasets"
   ]
  },
  {
   "cell_type": "markdown",
   "metadata": {},
   "source": [
    "### Results :\n",
    "*******************************************************************************************************************************\n",
    "Each cluster seems to represent a distinct theme or research area, with the clustering algorithm grouping papers based on similarity in their features. The content and trends within each cluster can provide insights into the variety of topics that emerge from the dataset and offer a glimpse into the underlying patterns and directions of research in the given field.\n",
    "\n",
    "#### Observations :\n",
    "*******************************************************************************************************************************\n",
    "We carefully analyzed the dataset, adeptly visualized clusters, and thoughtfully introduced meaningful labels. This process enhanced our understanding, revealing clear research themes."
   ]
  },
  {
   "cell_type": "markdown",
   "metadata": {},
   "source": [
    "### Conclusion and Future Direction :\n",
    "*******************************************************************************************************************************\n",
    "#### Learnings : \n",
    "\n",
    "\n",
    "In conclusion, this code introduces a valuable contribution to data analysis and clustering by exemplifying the application of multi-modal clustering, amalgamating text and temporal features. Through the synergy of diverse data facets, it facilitates pattern recognition and cohesive grouping of akin data points. Offering a springboard for label-free data exploration, the code underscores multi-modal strategies' potency in revealing concealed data relationships. Its potential to unveil latent insights and provide a preliminary framework for tailored refinement cements its significance for researchers and practitioners alike.\n",
    "\n",
    "*******************************************************************************************************************************\n",
    "#### Results Discussion :\n",
    "\n",
    "The code produces notable outcomes, merging text and temporal features for successful pattern identification and data point grouping. Its label-free adaptability underscores practicality, emphasizing multi-modal strategies for uncovering intricate data relationships and encouraging future exploration.\n",
    "*******************************************************************************************************************************\n",
    "#### Limitations :\n",
    "\n",
    "However, there are some limitations to consider. The code's effectiveness heavily relies on the quality and relevance of the text and temporal features, which might vary in different datasets. Additionally, the performance of the clustering results could be influenced by the choice of similarity measures and clustering algorithms used in the code. Finally, the code's scalability to large datasets might need further optimization to maintain efficiency and accuracy.\n",
    "\n",
    "*******************************************************************************************************************************\n",
    "#### Future Extension :\n",
    "Furthermore, integrating advanced machine learning techniques, like deep learning or semi-supervised learning, could enhance clustering accuracy and versatility. Exploring online, incremental clustering approaches could also enable real-time analysis of streaming data, broadening the code's applicability to dynamic datasets."
   ]
  },
  {
   "cell_type": "markdown",
   "metadata": {},
   "source": [
    "# References:\n",
    "\n",
    "[1]:  Jahan, M.S., & Oussalah, M. (2021). Title of the Paper. Journal of Information Management, Volume(Issue), Page numbers. DOI: https://www.sciencedirect.com/science/article/pii/S0925231223003557?via%3Dihub\n",
    "\n",
    "[2]: Google. (2019). Hate speech policy. YouTube Help. URL: https://support.google.com/youtube/answer/2801939?hl=en\n",
    "\n",
    "[3]: Jahan, M.S. (2021). Google_sholars_ACM_digital_library_crawler. GitHub. URL: https://github.com/saroarjahan/Google_sholars_ACM_digital_library_crawler"
   ]
  },
  {
   "cell_type": "markdown",
   "metadata": {},
   "source": []
  }
 ],
 "metadata": {
  "kernelspec": {
   "display_name": "Python 3 (ipykernel)",
   "language": "python",
   "name": "python3"
  },
  "language_info": {
   "codemirror_mode": {
    "name": "ipython",
    "version": 3
   },
   "file_extension": ".py",
   "mimetype": "text/x-python",
   "name": "python",
   "nbconvert_exporter": "python",
   "pygments_lexer": "ipython3",
   "version": "3.10.9"
  }
 },
 "nbformat": 4,
 "nbformat_minor": 2
}
